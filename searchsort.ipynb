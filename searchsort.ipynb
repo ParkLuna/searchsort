{
 "cells": [
  {
   "cell_type": "code",
   "execution_count": 2,
   "metadata": {},
   "outputs": [
    {
     "name": "stdout",
     "output_type": "stream",
     "text": [
      "Element 7 found at index 6.\n"
     ]
    }
   ],
   "source": [
    "#Q1. Implementing BInary search \n",
    "\n",
    "def binary_search(arr, target):\n",
    "    left, right = 0, len(arr) - 1\n",
    "\n",
    "    while left <= right:\n",
    "        mid = (left + right) // 2\n",
    "\n",
    "        if arr[mid] == target:\n",
    "            return mid\n",
    "        \n",
    "        elif arr[mid] < target:\n",
    "            left = mid + 1\n",
    "\n",
    "        else:\n",
    "            right = mid - 1\n",
    "\n",
    "    return -1\n",
    "\n",
    "input_list = input(\"Enter a sorted list of numbers: \").split(' ')\n",
    "sorted_list = [int(num) for num in input_list]\n",
    "target = int(input(\"Enter the number to search for: \"))\n",
    "\n",
    "result = binary_search(sorted_list, target)\n",
    "\n",
    "if result != -1:\n",
    "    print(f\"Element {target} found at index {result}.\")\n",
    "else:\n",
    "    print(f\"Element {target} not found in the list.\")\n"
   ]
  },
  {
   "cell_type": "code",
   "execution_count": 1,
   "metadata": {},
   "outputs": [
    {
     "name": "stdout",
     "output_type": "stream",
     "text": [
      "Sorted list: [12, 32, 42, 45, 61, 63, 78, 95]\n"
     ]
    }
   ],
   "source": [
    "#Q2. Implementing Merge Sort\n",
    "\n",
    "def merge_sort(arr):\n",
    "    if len(arr) <= 1:\n",
    "        return arr\n",
    "\n",
    "    mid = len(arr) // 2\n",
    "    left = merge_sort(arr[:mid])\n",
    "    right = merge_sort(arr[mid:])\n",
    "\n",
    "    return merge(left, right)\n",
    "\n",
    "def merge(left, right):\n",
    "    merged = []\n",
    "    left_idx, right_idx = 0, 0\n",
    "\n",
    "    while left_idx < len(left) and right_idx < len(right):\n",
    "        if left[left_idx] < right[right_idx]:\n",
    "            merged.append(left[left_idx])\n",
    "            left_idx += 1\n",
    "        else:\n",
    "            merged.append(right[right_idx])\n",
    "            right_idx += 1\n",
    "\n",
    "    merged.extend(left[left_idx:])\n",
    "    merged.extend(right[right_idx:])\n",
    "    return merged\n",
    "\n",
    "input_list = input(\"Enter a list of numbers separated by space: \").split()\n",
    "input_list = [int(num) for num in input_list]\n",
    "\n",
    "sorted_list = merge_sort(input_list)\n",
    "\n",
    "print(\"Sorted list:\", sorted_list)\n"
   ]
  },
  {
   "cell_type": "code",
   "execution_count": 2,
   "metadata": {},
   "outputs": [
    {
     "name": "stdout",
     "output_type": "stream",
     "text": [
      "Sorted list: [11, 14, 19, 22, 25, 36, 45, 55, 77, 91, 98]\n"
     ]
    }
   ],
   "source": [
    "#Q3.Implement Quick Sort\n",
    "\n",
    "def quick_sort(arr):\n",
    "    if len(arr) <= 1:\n",
    "        return arr\n",
    "    else:\n",
    "        pivot = arr[0]\n",
    "        less = [x for x in arr[1:] if x <= pivot]\n",
    "        greater = [x for x in arr[1:] if x > pivot]\n",
    "        return quick_sort(less) + [pivot] + quick_sort(greater)\n",
    "\n",
    "input_list = input(\"Enter a list of numbers separated by space: \").split()\n",
    "input_list = [int(num) for num in input_list]\n",
    "\n",
    "sorted_list = quick_sort(input_list)\n",
    "\n",
    "print(\"Sorted list:\", sorted_list)\n"
   ]
  },
  {
   "cell_type": "code",
   "execution_count": 3,
   "metadata": {},
   "outputs": [
    {
     "name": "stdout",
     "output_type": "stream",
     "text": [
      "Sorted list: [4, 12, 12, 41, 45, 51, 62, 63, 85, 967]\n"
     ]
    }
   ],
   "source": [
    "#Q4.Implement Insertion Sort\n",
    "\n",
    "def insertion_sort(arr):\n",
    "    for i in range(1, len(arr)):\n",
    "        key = arr[i]\n",
    "        j = i - 1\n",
    "        while j >= 0 and key < arr[j]:\n",
    "            arr[j + 1] = arr[j]\n",
    "            j -= 1\n",
    "        arr[j + 1] = key\n",
    "\n",
    "input_list = input(\"Enter a list of numbers separated by space: \").split()\n",
    "input_list = [int(num) for num in input_list]\n",
    "\n",
    "insertion_sort(input_list)\n",
    "\n",
    "print(\"Sorted list:\", input_list)\n"
   ]
  },
  {
   "cell_type": "code",
   "execution_count": 4,
   "metadata": {},
   "outputs": [
    {
     "name": "stdout",
     "output_type": "stream",
     "text": [
      "Sorted list: ['Hinata', 'Kageyama', 'Oikawa', 'Sawamura', 'Sugawara']\n"
     ]
    }
   ],
   "source": [
    "#Q5.Write a program to sort list of strings (similar to that of dictionary)\n",
    "\n",
    "\n",
    "input_list = input(\"Enter a list of strings separated by space: \").split()\n",
    "\n",
    "sorted_list = sorted(input_list)\n",
    "\n",
    "print(\"Sorted list:\", sorted_list)\n"
   ]
  }
 ],
 "metadata": {
  "kernelspec": {
   "display_name": "Python 3",
   "language": "python",
   "name": "python3"
  },
  "language_info": {
   "codemirror_mode": {
    "name": "ipython",
    "version": 3
   },
   "file_extension": ".py",
   "mimetype": "text/x-python",
   "name": "python",
   "nbconvert_exporter": "python",
   "pygments_lexer": "ipython3",
   "version": "3.10.4"
  },
  "orig_nbformat": 4
 },
 "nbformat": 4,
 "nbformat_minor": 2
}
